{
  "cells": [
    {
      "cell_type": "code",
      "execution_count": 1,
      "metadata": {
        "colab": {
          "base_uri": "https://localhost:8080/"
        },
        "id": "9aLThrW7Cu1P",
        "outputId": "642a76ae-f439-4832-8a4b-412010a25c6d"
      },
      "outputs": [
        {
          "name": "stderr",
          "output_type": "stream",
          "text": [
            "[nltk_data] Downloading package stopwords to\n",
            "[nltk_data]     /home/mwarren/nltk_data...\n",
            "[nltk_data]   Package stopwords is already up-to-date!\n",
            "[nltk_data] Downloading package wordnet to /home/mwarren/nltk_data...\n",
            "[nltk_data]   Package wordnet is already up-to-date!\n",
            "[nltk_data] Downloading package omw-1.4 to /home/mwarren/nltk_data...\n",
            "[nltk_data]   Package omw-1.4 is already up-to-date!\n"
          ]
        },
        {
          "data": {
            "text/plain": [
              "True"
            ]
          },
          "execution_count": 1,
          "metadata": {},
          "output_type": "execute_result"
        }
      ],
      "source": [
        "import pandas as pd\n",
        "from nltk.corpus import stopwords\n",
        "import re\n",
        "import matplotlib.pyplot as plt\n",
        "import nltk\n",
        "\n",
        "nltk.download('stopwords')\n",
        "nltk.download('wordnet')\n",
        "nltk.download('omw-1.4')\n",
        "\n",
        "\n"
      ]
    },
    {
      "cell_type": "code",
      "execution_count": 24,
      "metadata": {
        "colab": {
          "base_uri": "https://localhost:8080/",
          "height": 349
        },
        "id": "aYc-LTD4Cu1T",
        "outputId": "3e4c1247-ce72-4253-b28f-b8ebb9c04e0f"
      },
      "outputs": [
        {
          "name": "stdout",
          "output_type": "stream",
          "text": [
            "Number of Train Datapoints: 41157\n",
            "Number of Test Datapoints: 3798\n"
          ]
        },
        {
          "data": {
            "text/html": [
              "<div>\n",
              "<style scoped>\n",
              "    .dataframe tbody tr th:only-of-type {\n",
              "        vertical-align: middle;\n",
              "    }\n",
              "\n",
              "    .dataframe tbody tr th {\n",
              "        vertical-align: top;\n",
              "    }\n",
              "\n",
              "    .dataframe thead th {\n",
              "        text-align: right;\n",
              "    }\n",
              "</style>\n",
              "<table border=\"1\" class=\"dataframe\">\n",
              "  <thead>\n",
              "    <tr style=\"text-align: right;\">\n",
              "      <th></th>\n",
              "      <th>UserName</th>\n",
              "      <th>ScreenName</th>\n",
              "      <th>Location</th>\n",
              "      <th>TweetAt</th>\n",
              "      <th>OriginalTweet</th>\n",
              "      <th>Sentiment</th>\n",
              "    </tr>\n",
              "  </thead>\n",
              "  <tbody>\n",
              "    <tr>\n",
              "      <th>0</th>\n",
              "      <td>3799</td>\n",
              "      <td>48751</td>\n",
              "      <td>London</td>\n",
              "      <td>16-03-2020</td>\n",
              "      <td>@MeNyrbie @Phil_Gahan @Chrisitv https://t.co/i...</td>\n",
              "      <td>Neutral</td>\n",
              "    </tr>\n",
              "    <tr>\n",
              "      <th>1</th>\n",
              "      <td>3800</td>\n",
              "      <td>48752</td>\n",
              "      <td>UK</td>\n",
              "      <td>16-03-2020</td>\n",
              "      <td>advice Talk to your neighbours family to excha...</td>\n",
              "      <td>Positive</td>\n",
              "    </tr>\n",
              "    <tr>\n",
              "      <th>2</th>\n",
              "      <td>3801</td>\n",
              "      <td>48753</td>\n",
              "      <td>Vagabonds</td>\n",
              "      <td>16-03-2020</td>\n",
              "      <td>Coronavirus Australia: Woolworths to give elde...</td>\n",
              "      <td>Positive</td>\n",
              "    </tr>\n",
              "    <tr>\n",
              "      <th>3</th>\n",
              "      <td>3802</td>\n",
              "      <td>48754</td>\n",
              "      <td>NaN</td>\n",
              "      <td>16-03-2020</td>\n",
              "      <td>My food stock is not the only one which is emp...</td>\n",
              "      <td>Positive</td>\n",
              "    </tr>\n",
              "    <tr>\n",
              "      <th>4</th>\n",
              "      <td>3803</td>\n",
              "      <td>48755</td>\n",
              "      <td>NaN</td>\n",
              "      <td>16-03-2020</td>\n",
              "      <td>Me, ready to go at supermarket during the #COV...</td>\n",
              "      <td>Extremely Negative</td>\n",
              "    </tr>\n",
              "  </tbody>\n",
              "</table>\n",
              "</div>"
            ],
            "text/plain": [
              "   UserName  ScreenName   Location     TweetAt  \\\n",
              "0      3799       48751     London  16-03-2020   \n",
              "1      3800       48752         UK  16-03-2020   \n",
              "2      3801       48753  Vagabonds  16-03-2020   \n",
              "3      3802       48754        NaN  16-03-2020   \n",
              "4      3803       48755        NaN  16-03-2020   \n",
              "\n",
              "                                       OriginalTweet           Sentiment  \n",
              "0  @MeNyrbie @Phil_Gahan @Chrisitv https://t.co/i...             Neutral  \n",
              "1  advice Talk to your neighbours family to excha...            Positive  \n",
              "2  Coronavirus Australia: Woolworths to give elde...            Positive  \n",
              "3  My food stock is not the only one which is emp...            Positive  \n",
              "4  Me, ready to go at supermarket during the #COV...  Extremely Negative  "
            ]
          },
          "execution_count": 24,
          "metadata": {},
          "output_type": "execute_result"
        }
      ],
      "source": [
        "dfTrain = pd.read_csv(\"Datasets/Corona_NLP_train.csv\", encoding=\"latin\")\n",
        "dfTest = pd.read_csv(\"Datasets/Corona_NLP_test.csv\", encoding=\"latin\")\n",
        "print(\"Number of Train Datapoints: {}\".format(dfTrain.shape[0]))\n",
        "print(\"Number of Test Datapoints: {}\".format(dfTest.shape[0]))\n",
        "dfTrain.head()"
      ]
    },
    {
      "cell_type": "code",
      "execution_count": 26,
      "metadata": {
        "colab": {
          "base_uri": "https://localhost:8080/",
          "height": 206
        },
        "id": "rJa8VrP4Cu1Z",
        "outputId": "d20a55b4-b94c-4c5b-edb9-36dab24d9b60"
      },
      "outputs": [
        {
          "data": {
            "text/html": [
              "<div>\n",
              "<style scoped>\n",
              "    .dataframe tbody tr th:only-of-type {\n",
              "        vertical-align: middle;\n",
              "    }\n",
              "\n",
              "    .dataframe tbody tr th {\n",
              "        vertical-align: top;\n",
              "    }\n",
              "\n",
              "    .dataframe thead th {\n",
              "        text-align: right;\n",
              "    }\n",
              "</style>\n",
              "<table border=\"1\" class=\"dataframe\">\n",
              "  <thead>\n",
              "    <tr style=\"text-align: right;\">\n",
              "      <th></th>\n",
              "      <th>UserName</th>\n",
              "      <th>ScreenName</th>\n",
              "      <th>Location</th>\n",
              "      <th>TweetAt</th>\n",
              "      <th>OriginalTweet</th>\n",
              "      <th>Sentiment</th>\n",
              "      <th>Sentiment_Numerical</th>\n",
              "    </tr>\n",
              "  </thead>\n",
              "  <tbody>\n",
              "    <tr>\n",
              "      <th>0</th>\n",
              "      <td>3799</td>\n",
              "      <td>48751</td>\n",
              "      <td>London</td>\n",
              "      <td>16-03-2020</td>\n",
              "      <td>@MeNyrbie @Phil_Gahan @Chrisitv https://t.co/i...</td>\n",
              "      <td>Neutral</td>\n",
              "      <td>0</td>\n",
              "    </tr>\n",
              "    <tr>\n",
              "      <th>1</th>\n",
              "      <td>3800</td>\n",
              "      <td>48752</td>\n",
              "      <td>UK</td>\n",
              "      <td>16-03-2020</td>\n",
              "      <td>advice Talk to your neighbours family to excha...</td>\n",
              "      <td>Positive</td>\n",
              "      <td>1</td>\n",
              "    </tr>\n",
              "    <tr>\n",
              "      <th>2</th>\n",
              "      <td>3801</td>\n",
              "      <td>48753</td>\n",
              "      <td>Vagabonds</td>\n",
              "      <td>16-03-2020</td>\n",
              "      <td>Coronavirus Australia: Woolworths to give elde...</td>\n",
              "      <td>Positive</td>\n",
              "      <td>1</td>\n",
              "    </tr>\n",
              "    <tr>\n",
              "      <th>3</th>\n",
              "      <td>3802</td>\n",
              "      <td>48754</td>\n",
              "      <td>NaN</td>\n",
              "      <td>16-03-2020</td>\n",
              "      <td>My food stock is not the only one which is emp...</td>\n",
              "      <td>Positive</td>\n",
              "      <td>1</td>\n",
              "    </tr>\n",
              "    <tr>\n",
              "      <th>4</th>\n",
              "      <td>3803</td>\n",
              "      <td>48755</td>\n",
              "      <td>NaN</td>\n",
              "      <td>16-03-2020</td>\n",
              "      <td>Me, ready to go at supermarket during the #COV...</td>\n",
              "      <td>Extremely Negative</td>\n",
              "      <td>-2</td>\n",
              "    </tr>\n",
              "  </tbody>\n",
              "</table>\n",
              "</div>"
            ],
            "text/plain": [
              "   UserName  ScreenName   Location     TweetAt  \\\n",
              "0      3799       48751     London  16-03-2020   \n",
              "1      3800       48752         UK  16-03-2020   \n",
              "2      3801       48753  Vagabonds  16-03-2020   \n",
              "3      3802       48754        NaN  16-03-2020   \n",
              "4      3803       48755        NaN  16-03-2020   \n",
              "\n",
              "                                       OriginalTweet           Sentiment  \\\n",
              "0  @MeNyrbie @Phil_Gahan @Chrisitv https://t.co/i...             Neutral   \n",
              "1  advice Talk to your neighbours family to excha...            Positive   \n",
              "2  Coronavirus Australia: Woolworths to give elde...            Positive   \n",
              "3  My food stock is not the only one which is emp...            Positive   \n",
              "4  Me, ready to go at supermarket during the #COV...  Extremely Negative   \n",
              "\n",
              "   Sentiment_Numerical  \n",
              "0                    0  \n",
              "1                    1  \n",
              "2                    1  \n",
              "3                    1  \n",
              "4                   -2  "
            ]
          },
          "execution_count": 26,
          "metadata": {},
          "output_type": "execute_result"
        }
      ],
      "source": [
        "# Turn sentiment result into numerical values for easy analysis\n",
        "# Will have to modify this for better model implementation i.e one hot encode\n",
        "def numerize(result):\n",
        "    if(result == \"Extremely Negative\"):\n",
        "        return -2\n",
        "    elif result == \"Negative\":\n",
        "        return -1\n",
        "    elif result == \"Neutral\":\n",
        "        return 0\n",
        "    elif result == \"Positive\":\n",
        "        return 1\n",
        "    return 2\n",
        "\n",
        "dfTrain[\"Sentiment_Numerical\"] = dfTrain.apply(lambda row: numerize(row[\"Sentiment\"]), axis=1)\n",
        "dfTest[\"Sentiment_Numerical\"] = dfTest.apply(lambda row: numerize(row[\"Sentiment\"]), axis=1)\n",
        "dfTrain.head()\n"
      ]
    },
    {
      "cell_type": "code",
      "execution_count": 27,
      "metadata": {
        "colab": {
          "base_uri": "https://localhost:8080/",
          "height": 265
        },
        "id": "8M507zH0Cu1b",
        "outputId": "3fecf48f-a280-4c8c-adc0-5ade3527bec8"
      },
      "outputs": [
        {
          "data": {
            "image/png": "[encoded data removed]",
            "text/plain": [
              "<Figure size 640x480 with 1 Axes>"
            ]
          },
          "metadata": {},
          "output_type": "display_data"
        }
      ],
      "source": [
        "# Analyzing distribution of data\n",
        "arr = dfTrain[\"Sentiment_Numerical\"].to_numpy()\n",
        "binNum = 5\n",
        "# Plot histogram showing the distribution of data\n",
        "plt.hist(arr, binNum, width=0.7)\n",
        "plt.show()\n",
        "# Overall dataset is pretty well distributed, contains slight positive skew"
      ]
    },
    {
      "cell_type": "code",
      "execution_count": 30,
      "metadata": {
        "colab": {
          "base_uri": "https://localhost:8080/",
          "height": 337
        },
        "id": "Vq7aXAEzCu1c",
        "outputId": "a0eb3917-ca45-498e-f6e1-0bcc5094638f"
      },
      "outputs": [
        {
          "data": {
            "text/html": [
              "<div>\n",
              "<style scoped>\n",
              "    .dataframe tbody tr th:only-of-type {\n",
              "        vertical-align: middle;\n",
              "    }\n",
              "\n",
              "    .dataframe tbody tr th {\n",
              "        vertical-align: top;\n",
              "    }\n",
              "\n",
              "    .dataframe thead th {\n",
              "        text-align: right;\n",
              "    }\n",
              "</style>\n",
              "<table border=\"1\" class=\"dataframe\">\n",
              "  <thead>\n",
              "    <tr style=\"text-align: right;\">\n",
              "      <th></th>\n",
              "      <th>UserName</th>\n",
              "      <th>ScreenName</th>\n",
              "      <th>Location</th>\n",
              "      <th>TweetAt</th>\n",
              "      <th>OriginalTweet</th>\n",
              "      <th>Sentiment</th>\n",
              "      <th>Sentiment_Numerical</th>\n",
              "      <th>CleanedTweetsStemmed</th>\n",
              "      <th>CleanedTweetsLemmatized</th>\n",
              "      <th>Cleaned_Tweets_Stemmed</th>\n",
              "      <th>Cleaned_Tweets_Lemmatized</th>\n",
              "    </tr>\n",
              "  </thead>\n",
              "  <tbody>\n",
              "    <tr>\n",
              "      <th>0</th>\n",
              "      <td>3799</td>\n",
              "      <td>48751</td>\n",
              "      <td>London</td>\n",
              "      <td>16-03-2020</td>\n",
              "      <td>@MeNyrbie @Phil_Gahan @Chrisitv https://t.co/i...</td>\n",
              "      <td>Neutral</td>\n",
              "      <td>0</td>\n",
              "      <td>menyrbi  phil gahan  chrisitv</td>\n",
              "      <td>menyrbie  phil gahan  chrisitv</td>\n",
              "      <td>menyrbi  phil gahan  chrisitv</td>\n",
              "      <td>menyrbie  phil gahan  chrisitv</td>\n",
              "    </tr>\n",
              "    <tr>\n",
              "      <th>1</th>\n",
              "      <td>3800</td>\n",
              "      <td>48752</td>\n",
              "      <td>UK</td>\n",
              "      <td>16-03-2020</td>\n",
              "      <td>advice Talk to your neighbours family to excha...</td>\n",
              "      <td>Positive</td>\n",
              "      <td>1</td>\n",
              "      <td>advic talk neighbour famili exchang phone numb...</td>\n",
              "      <td>advice talk neighbour family exchange phone nu...</td>\n",
              "      <td>advic talk neighbour famili exchang phone numb...</td>\n",
              "      <td>advice talk neighbour family exchange phone nu...</td>\n",
              "    </tr>\n",
              "    <tr>\n",
              "      <th>2</th>\n",
              "      <td>3801</td>\n",
              "      <td>48753</td>\n",
              "      <td>Vagabonds</td>\n",
              "      <td>16-03-2020</td>\n",
              "      <td>Coronavirus Australia: Woolworths to give elde...</td>\n",
              "      <td>Positive</td>\n",
              "      <td>1</td>\n",
              "      <td>coronaviru australia  woolworth give elderly  ...</td>\n",
              "      <td>coronavirus australia  woolworth give elderly ...</td>\n",
              "      <td>coronaviru australia  woolworth give elderly  ...</td>\n",
              "      <td>coronavirus australia  woolworth give elderly ...</td>\n",
              "    </tr>\n",
              "    <tr>\n",
              "      <th>3</th>\n",
              "      <td>3802</td>\n",
              "      <td>48754</td>\n",
              "      <td>NaN</td>\n",
              "      <td>16-03-2020</td>\n",
              "      <td>My food stock is not the only one which is emp...</td>\n",
              "      <td>Positive</td>\n",
              "      <td>1</td>\n",
              "      <td>my food stock one empty  please  panic  there ...</td>\n",
              "      <td>my food stock one empty  please  panic  there ...</td>\n",
              "      <td>my food stock one empty  please  panic  there ...</td>\n",
              "      <td>my food stock one empty  please  panic  there ...</td>\n",
              "    </tr>\n",
              "    <tr>\n",
              "      <th>4</th>\n",
              "      <td>3803</td>\n",
              "      <td>48755</td>\n",
              "      <td>NaN</td>\n",
              "      <td>16-03-2020</td>\n",
              "      <td>Me, ready to go at supermarket during the #COV...</td>\n",
              "      <td>Extremely Negative</td>\n",
              "      <td>-2</td>\n",
              "      <td>me  readi go supermarket  covid  outbreak  not...</td>\n",
              "      <td>me  ready go supermarket  covid  outbreak  not...</td>\n",
              "      <td>me  readi go supermarket  covid  outbreak  not...</td>\n",
              "      <td>me  ready go supermarket  covid  outbreak  not...</td>\n",
              "    </tr>\n",
              "  </tbody>\n",
              "</table>\n",
              "</div>"
            ],
            "text/plain": [
              "   UserName  ScreenName   Location     TweetAt  \\\n",
              "0      3799       48751     London  16-03-2020   \n",
              "1      3800       48752         UK  16-03-2020   \n",
              "2      3801       48753  Vagabonds  16-03-2020   \n",
              "3      3802       48754        NaN  16-03-2020   \n",
              "4      3803       48755        NaN  16-03-2020   \n",
              "\n",
              "                                       OriginalTweet           Sentiment  \\\n",
              "0  @MeNyrbie @Phil_Gahan @Chrisitv https://t.co/i...             Neutral   \n",
              "1  advice Talk to your neighbours family to excha...            Positive   \n",
              "2  Coronavirus Australia: Woolworths to give elde...            Positive   \n",
              "3  My food stock is not the only one which is emp...            Positive   \n",
              "4  Me, ready to go at supermarket during the #COV...  Extremely Negative   \n",
              "\n",
              "   Sentiment_Numerical                               CleanedTweetsStemmed  \\\n",
              "0                    0                      menyrbi  phil gahan  chrisitv   \n",
              "1                    1  advic talk neighbour famili exchang phone numb...   \n",
              "2                    1  coronaviru australia  woolworth give elderly  ...   \n",
              "3                    1  my food stock one empty  please  panic  there ...   \n",
              "4                   -2  me  readi go supermarket  covid  outbreak  not...   \n",
              "\n",
              "                             CleanedTweetsLemmatized  \\\n",
              "0                     menyrbie  phil gahan  chrisitv   \n",
              "1  advice talk neighbour family exchange phone nu...   \n",
              "2  coronavirus australia  woolworth give elderly ...   \n",
              "3  my food stock one empty  please  panic  there ...   \n",
              "4  me  ready go supermarket  covid  outbreak  not...   \n",
              "\n",
              "                              Cleaned_Tweets_Stemmed  \\\n",
              "0                      menyrbi  phil gahan  chrisitv   \n",
              "1  advic talk neighbour famili exchang phone numb...   \n",
              "2  coronaviru australia  woolworth give elderly  ...   \n",
              "3  my food stock one empty  please  panic  there ...   \n",
              "4  me  readi go supermarket  covid  outbreak  not...   \n",
              "\n",
              "                           Cleaned_Tweets_Lemmatized  \n",
              "0                     menyrbie  phil gahan  chrisitv  \n",
              "1  advice talk neighbour family exchange phone nu...  \n",
              "2  coronavirus australia  woolworth give elderly ...  \n",
              "3  my food stock one empty  please  panic  there ...  \n",
              "4  me  ready go supermarket  covid  outbreak  not...  "
            ]
          },
          "execution_count": 30,
          "metadata": {},
          "output_type": "execute_result"
        }
      ],
      "source": [
        "# Data cleaning\n",
        "\n",
        "# Initialize stop words to be removed\n",
        "stopWrds = stopwords.words('english')\n",
        "\n",
        "# Clean text either through stemming or lemmatizing\n",
        "# Stemming is faster but can lead to two words with different meanings being treated the same\n",
        "# Lemmatizing may be more accurate but takes longer to train due to higher word count\n",
        "lemmer = nltk.stem.WordNetLemmatizer()\n",
        "stemmer = nltk.stem.PorterStemmer()\n",
        "\n",
        "\n",
        "# Removes all special characters from each word and all words in stop words + removes http links\n",
        "# Additionally stems or lemmatizes each word to a core definition\n",
        "def cleanTextStem(text):\n",
        "    return \" \".join([stemmer.stem((re.sub(\"[^a-z]+\", ' ', word.lower()))) for word in text.split() if word not in stopWrds and 'https' not in word])\n",
        "    \n",
        "# cleans words but uses a lemmatizer instead of a porter stemmer\n",
        "def cleanTextLemm(text):\n",
        "    return \" \".join([lemmer.lemmatize((re.sub(\"[^a-z]+\", ' ', word.lower()))) for word in text.split() if word not in stopWrds and 'https' not in word])\n",
        "\n",
        "\n",
        "def cleanData(df: pd.DataFrame):\n",
        "    df[\"Cleaned_Tweets_Stemmed\"] = df.apply(lambda row: cleanTextStem(row[\"OriginalTweet\"]), axis=1)\n",
        "    df[\"Cleaned_Tweets_Lemmatized\"] = df.apply(lambda row: cleanTextLemm(row[\"OriginalTweet\"]), axis=1)\n",
        "\n",
        "# Clean text and store on dataframe\n",
        "cleanData(dfTrain)\n",
        "cleanData(dfTest)\n",
        "\n",
        "dfTrain.head()"
      ]
    },
    {
      "cell_type": "code",
      "execution_count": 31,
      "metadata": {
        "id": "CnHrGYihCu1e"
      },
      "outputs": [],
      "source": [
        "# Save data frame\n",
        "#dfTrain.to_csv(\"Datasets/Corona_NLP__train_cleaned.csv\", index=False)\n",
        "#dfTest.to_csv(\"Datasets/Corona_NLP__test_cleaned.csv\", index=False)"
      ]
    },
    {
      "cell_type": "code",
      "execution_count": 32,
      "metadata": {
        "colab": {
          "base_uri": "https://localhost:8080/"
        },
        "id": "mGLxXh-xCu1f",
        "outputId": "6fa6562b-cc46-4869-b078-68214b9ebd6f"
      },
      "outputs": [
        {
          "name": "stdout",
          "output_type": "stream",
          "text": [
            "[[0 0 0 ... 0 0 0]\n",
            " [0 0 0 ... 0 0 0]\n",
            " [0 0 0 ... 0 0 0]\n",
            " ...\n",
            " [0 0 0 ... 0 0 0]\n",
            " [0 0 0 ... 0 0 0]\n",
            " [0 0 0 ... 0 0 0]]\n"
          ]
        }
      ],
      "source": [
        "# Prepare data for use with chosen model\n",
        "from sklearn.feature_extraction.text import CountVectorizer, TfidfVectorizer\n",
        "\n",
        "# Putting this in a function to easily call it from external files\n",
        "# Count vectorize = number of occurences of word, tfidf = word frequency\n",
        "def vectorize(cleanText, useCountVect=True):\n",
        "    # Vectorize text either using a count vectorizer or tfidf\n",
        "    vect = CountVectorizer() if useCountVect else TfidfVectorizer()\n",
        "    return vect.fit_transform(cleanText)\n",
        "\n",
        "\n",
        "X = vectorize(dfTrain[\"CleanedTweetsStemmed\"].tolist())\n",
        "print(X.toarray())"
      ]
    },
    {
      "cell_type": "code",
      "execution_count": null,
      "metadata": {
        "id": "raVxYEhZFUVW"
      },
      "outputs": [],
      "source": []
    }
  ],
  "metadata": {
    "colab": {
      "collapsed_sections": [],
      "provenance": [],
      "toc_visible": true
    },
    "kernelspec": {
      "display_name": "Python 3.10.7 ('.venv': venv)",
      "language": "python",
      "name": "python3"
    },
    "language_info": {
      "codemirror_mode": {
        "name": "ipython",
        "version": 3
      },
      "file_extension": ".py",
      "mimetype": "text/x-python",
      "name": "python",
      "nbconvert_exporter": "python",
      "pygments_lexer": "ipython3",
      "version": "3.10.7"
    },
    "orig_nbformat": 4,
    "vscode": {
      "interpreter": {
        "hash": "fd85cd6e7be736fcd1f7160919c02098766d93f1fc7af225ec9ace3e4b4230b5"
      }
    }
  },
  "nbformat": 4,
  "nbformat_minor": 0
}
